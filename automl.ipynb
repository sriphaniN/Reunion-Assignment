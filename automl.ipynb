{
  "nbformat": 4,
  "nbformat_minor": 0,
  "metadata": {
    "colab": {
      "provenance": []
    },
    "kernelspec": {
      "name": "python3",
      "display_name": "Python 3"
    },
    "language_info": {
      "name": "python"
    }
  },
  "cells": [
    {
      "cell_type": "code",
      "execution_count": 1,
      "metadata": {
        "colab": {
          "base_uri": "https://localhost:8080/",
          "height": 1000
        },
        "id": "bzsVar0Wku4o",
        "outputId": "28352513-db6e-48ff-8771-0ab9041a227f"
      },
      "outputs": [
        {
          "output_type": "stream",
          "name": "stdout",
          "text": [
            "Looking in indexes: https://pypi.org/simple, https://us-python.pkg.dev/colab-wheels/public/simple/\n",
            "Collecting evalml\n",
            "  Downloading evalml-0.65.0-py3-none-any.whl (6.5 MB)\n",
            "\u001b[2K     \u001b[90m━━━━━━━━━━━━━━━━━━━━━━━━━━━━━━━━━━━━━━━━\u001b[0m \u001b[32m6.5/6.5 MB\u001b[0m \u001b[31m15.7 MB/s\u001b[0m eta \u001b[36m0:00:00\u001b[0m\n",
            "\u001b[?25hCollecting texttable>=1.6.2\n",
            "  Downloading texttable-1.6.7-py2.py3-none-any.whl (10 kB)\n",
            "Collecting requirements-parser>=0.2.0\n",
            "  Downloading requirements_parser-0.5.0-py3-none-any.whl (18 kB)\n",
            "Collecting lime>=0.2.0.1\n",
            "  Downloading lime-0.2.0.1.tar.gz (275 kB)\n",
            "\u001b[2K     \u001b[90m━━━━━━━━━━━━━━━━━━━━━━━━━━━━━━━━━━━━━━\u001b[0m \u001b[32m275.7/275.7 KB\u001b[0m \u001b[31m10.4 MB/s\u001b[0m eta \u001b[36m0:00:00\u001b[0m\n",
            "\u001b[?25h  Preparing metadata (setup.py) ... \u001b[?25l\u001b[?25hdone\n",
            "Collecting sktime>=0.13.3\n",
            "  Downloading sktime-0.15.1-py3-none-any.whl (16.0 MB)\n",
            "\u001b[2K     \u001b[90m━━━━━━━━━━━━━━━━━━━━━━━━━━━━━━━━━━━━━━━━\u001b[0m \u001b[32m16.0/16.0 MB\u001b[0m \u001b[31m37.2 MB/s\u001b[0m eta \u001b[36m0:00:00\u001b[0m\n",
            "\u001b[?25hRequirement already satisfied: scipy>=1.5.0 in /usr/local/lib/python3.8/dist-packages (from evalml) (1.7.3)\n",
            "Requirement already satisfied: cloudpickle>=1.5.0 in /usr/local/lib/python3.8/dist-packages (from evalml) (2.2.0)\n",
            "Collecting catboost>=0.20\n",
            "  Downloading catboost-1.1.1-cp38-none-manylinux1_x86_64.whl (76.6 MB)\n",
            "\u001b[2K     \u001b[90m━━━━━━━━━━━━━━━━━━━━━━━━━━━━━━━━━━━━━━━━\u001b[0m \u001b[32m76.6/76.6 MB\u001b[0m \u001b[31m8.3 MB/s\u001b[0m eta \u001b[36m0:00:00\u001b[0m\n",
            "\u001b[?25hCollecting kaleido>=0.1.0\n",
            "  Downloading kaleido-0.2.1-py2.py3-none-manylinux1_x86_64.whl (79.9 MB)\n",
            "\u001b[2K     \u001b[90m━━━━━━━━━━━━━━━━━━━━━━━━━━━━━━━━━━━━━━━━\u001b[0m \u001b[32m79.9/79.9 MB\u001b[0m \u001b[31m10.1 MB/s\u001b[0m eta \u001b[36m0:00:00\u001b[0m\n",
            "\u001b[?25hRequirement already satisfied: plotly>=5.0.0 in /usr/local/lib/python3.8/dist-packages (from evalml) (5.5.0)\n",
            "Collecting scikit-learn<1.2.0,>=1.1.2\n",
            "  Downloading scikit_learn-1.1.3-cp38-cp38-manylinux_2_17_x86_64.manylinux2014_x86_64.whl (31.2 MB)\n",
            "\u001b[2K     \u001b[90m━━━━━━━━━━━━━━━━━━━━━━━━━━━━━━━━━━━━━━━━\u001b[0m \u001b[32m31.2/31.2 MB\u001b[0m \u001b[31m28.7 MB/s\u001b[0m eta \u001b[36m0:00:00\u001b[0m\n",
            "\u001b[?25hCollecting colorama>=0.4.4\n",
            "  Downloading colorama-0.4.6-py2.py3-none-any.whl (25 kB)\n",
            "Collecting scikit-optimize>=0.9.0\n",
            "  Downloading scikit_optimize-0.9.0-py2.py3-none-any.whl (100 kB)\n",
            "\u001b[2K     \u001b[90m━━━━━━━━━━━━━━━━━━━━━━━━━━━━━━━━━━━━━━━\u001b[0m \u001b[32m100.3/100.3 KB\u001b[0m \u001b[31m7.8 MB/s\u001b[0m eta \u001b[36m0:00:00\u001b[0m\n",
            "\u001b[?25hCollecting xgboost>=1.5.1\n",
            "  Downloading xgboost-1.7.3-py3-none-manylinux2014_x86_64.whl (193.6 MB)\n",
            "\u001b[2K     \u001b[90m━━━━━━━━━━━━━━━━━━━━━━━━━━━━━━━━━━━━━━━\u001b[0m \u001b[32m193.6/193.6 MB\u001b[0m \u001b[31m4.5 MB/s\u001b[0m eta \u001b[36m0:00:00\u001b[0m\n",
            "\u001b[?25hCollecting category-encoders>=2.2.2\n",
            "  Downloading category_encoders-2.5.1.post0-py2.py3-none-any.whl (72 kB)\n",
            "\u001b[2K     \u001b[90m━━━━━━━━━━━━━━━━━━━━━━━━━━━━━━━━━━━━━━━━\u001b[0m \u001b[32m72.4/72.4 KB\u001b[0m \u001b[31m1.6 MB/s\u001b[0m eta \u001b[36m0:00:00\u001b[0m\n",
            "\u001b[?25hRequirement already satisfied: statsmodels>=0.12.2 in /usr/local/lib/python3.8/dist-packages (from evalml) (0.12.2)\n",
            "Collecting nlp-primitives>=2.9.0\n",
            "  Downloading nlp_primitives-2.10.0-py3-none-any.whl (44.7 MB)\n",
            "\u001b[2K     \u001b[90m━━━━━━━━━━━━━━━━━━━━━━━━━━━━━━━━━━━━━━━━\u001b[0m \u001b[32m44.7/44.7 MB\u001b[0m \u001b[31m13.9 MB/s\u001b[0m eta \u001b[36m0:00:00\u001b[0m\n",
            "\u001b[?25hCollecting pmdarima<2.0.0,>=1.8.1\n",
            "  Downloading pmdarima-1.8.5-cp38-cp38-manylinux_2_17_x86_64.manylinux2014_x86_64.manylinux_2_24_x86_64.whl (1.5 MB)\n",
            "\u001b[2K     \u001b[90m━━━━━━━━━━━━━━━━━━━━━━━━━━━━━━━━━━━━━━━━\u001b[0m \u001b[32m1.5/1.5 MB\u001b[0m \u001b[31m24.6 MB/s\u001b[0m eta \u001b[36m0:00:00\u001b[0m\n",
            "\u001b[?25hCollecting imbalanced-learn>=0.9.1\n",
            "  Downloading imbalanced_learn-0.10.1-py3-none-any.whl (226 kB)\n",
            "\u001b[2K     \u001b[90m━━━━━━━━━━━━━━━━━━━━━━━━━━━━━━━━━━━━━━\u001b[0m \u001b[32m226.0/226.0 KB\u001b[0m \u001b[31m10.4 MB/s\u001b[0m eta \u001b[36m0:00:00\u001b[0m\n",
            "\u001b[?25hCollecting pandas>=1.5.0\n",
            "  Downloading pandas-1.5.2-cp38-cp38-manylinux_2_17_x86_64.manylinux2014_x86_64.whl (12.2 MB)\n",
            "\u001b[2K     \u001b[90m━━━━━━━━━━━━━━━━━━━━━━━━━━━━━━━━━━━━━━━━\u001b[0m \u001b[32m12.2/12.2 MB\u001b[0m \u001b[31m36.4 MB/s\u001b[0m eta \u001b[36m0:00:00\u001b[0m\n",
            "\u001b[?25hRequirement already satisfied: seaborn>=0.11.1 in /usr/local/lib/python3.8/dist-packages (from evalml) (0.11.2)\n",
            "Collecting matplotlib>=3.3.3\n",
            "  Downloading matplotlib-3.6.3-cp38-cp38-manylinux_2_12_x86_64.manylinux2010_x86_64.whl (9.4 MB)\n",
            "\u001b[2K     \u001b[90m━━━━━━━━━━━━━━━━━━━━━━━━━━━━━━━━━━━━━━━━\u001b[0m \u001b[32m9.4/9.4 MB\u001b[0m \u001b[31m47.7 MB/s\u001b[0m eta \u001b[36m0:00:00\u001b[0m\n",
            "\u001b[?25hCollecting shap>=0.40.0\n",
            "  Downloading shap-0.41.0-cp38-cp38-manylinux_2_12_x86_64.manylinux2010_x86_64.whl (575 kB)\n",
            "\u001b[2K     \u001b[90m━━━━━━━━━━━━━━━━━━━━━━━━━━━━━━━━━━━━━━\u001b[0m \u001b[32m575.9/575.9 KB\u001b[0m \u001b[31m24.4 MB/s\u001b[0m eta \u001b[36m0:00:00\u001b[0m\n",
            "\u001b[?25hRequirement already satisfied: pyzmq>=20.0.0 in /usr/local/lib/python3.8/dist-packages (from evalml) (23.2.1)\n",
            "Requirement already satisfied: click>=7.1.2 in /usr/local/lib/python3.8/dist-packages (from evalml) (7.1.2)\n",
            "Collecting featuretools>=1.16.0\n",
            "  Downloading featuretools-1.20.0-py3-none-any.whl (538 kB)\n",
            "\u001b[2K     \u001b[90m━━━━━━━━━━━━━━━━━━━━━━━━━━━━━━━━━━━━━━\u001b[0m \u001b[32m538.7/538.7 KB\u001b[0m \u001b[31m12.7 MB/s\u001b[0m eta \u001b[36m0:00:00\u001b[0m\n",
            "\u001b[?25hCollecting networkx<2.6,>=2.5\n",
            "  Downloading networkx-2.5.1-py3-none-any.whl (1.6 MB)\n",
            "\u001b[2K     \u001b[90m━━━━━━━━━━━━━━━━━━━━━━━━━━━━━━━━━━━━━━━━\u001b[0m \u001b[32m1.6/1.6 MB\u001b[0m \u001b[31m36.7 MB/s\u001b[0m eta \u001b[36m0:00:00\u001b[0m\n",
            "\u001b[?25hCollecting vowpalwabbit>=8.11.0\n",
            "  Downloading vowpalwabbit-9.6.0-cp38-cp38-manylinux_2_12_x86_64.manylinux2010_x86_64.whl (3.0 MB)\n",
            "\u001b[2K     \u001b[90m━━━━━━━━━━━━━━━━━━━━━━━━━━━━━━━━━━━━━━━━\u001b[0m \u001b[32m3.0/3.0 MB\u001b[0m \u001b[31m18.0 MB/s\u001b[0m eta \u001b[36m0:00:00\u001b[0m\n",
            "\u001b[?25hRequirement already satisfied: ipywidgets>=7.5 in /usr/local/lib/python3.8/dist-packages (from evalml) (7.7.1)\n",
            "Requirement already satisfied: numpy>=1.21.0 in /usr/local/lib/python3.8/dist-packages (from evalml) (1.21.6)\n",
            "Collecting graphviz>=0.13\n",
            "  Downloading graphviz-0.20.1-py3-none-any.whl (47 kB)\n",
            "\u001b[2K     \u001b[90m━━━━━━━━━━━━━━━━━━━━━━━━━━━━━━━━━━━━━━━━\u001b[0m \u001b[32m47.0/47.0 KB\u001b[0m \u001b[31m2.6 MB/s\u001b[0m eta \u001b[36m0:00:00\u001b[0m\n",
            "\u001b[?25hRequirement already satisfied: dask!=2022.10.1,>=2022.2.0 in /usr/local/lib/python3.8/dist-packages (from evalml) (2022.2.1)\n",
            "Collecting woodwork>=0.21.1\n",
            "  Downloading woodwork-0.21.2-py3-none-any.whl (230 kB)\n",
            "\u001b[2K     \u001b[90m━━━━━━━━━━━━━━━━━━━━━━━━━━━━━━━━━━━━━━\u001b[0m \u001b[32m230.7/230.7 KB\u001b[0m \u001b[31m12.7 MB/s\u001b[0m eta \u001b[36m0:00:00\u001b[0m\n",
            "\u001b[?25hCollecting lightgbm>=2.3.1\n",
            "  Downloading lightgbm-3.3.4-py3-none-manylinux1_x86_64.whl (2.0 MB)\n",
            "\u001b[2K     \u001b[90m━━━━━━━━━━━━━━━━━━━━━━━━━━━━━━━━━━━━━━━━\u001b[0m \u001b[32m2.0/2.0 MB\u001b[0m \u001b[31m35.7 MB/s\u001b[0m eta \u001b[36m0:00:00\u001b[0m\n",
            "\u001b[?25hRequirement already satisfied: six in /usr/local/lib/python3.8/dist-packages (from catboost>=0.20->evalml) (1.15.0)\n",
            "Requirement already satisfied: patsy>=0.5.1 in /usr/local/lib/python3.8/dist-packages (from category-encoders>=2.2.2->evalml) (0.5.3)\n",
            "Requirement already satisfied: partd>=0.3.10 in /usr/local/lib/python3.8/dist-packages (from dask!=2022.10.1,>=2022.2.0->evalml) (1.3.0)\n",
            "Requirement already satisfied: packaging>=20.0 in /usr/local/lib/python3.8/dist-packages (from dask!=2022.10.1,>=2022.2.0->evalml) (21.3)\n",
            "Requirement already satisfied: pyyaml>=5.3.1 in /usr/local/lib/python3.8/dist-packages (from dask!=2022.10.1,>=2022.2.0->evalml) (6.0)\n",
            "Requirement already satisfied: fsspec>=0.6.0 in /usr/local/lib/python3.8/dist-packages (from dask!=2022.10.1,>=2022.2.0->evalml) (2022.11.0)\n",
            "Requirement already satisfied: toolz>=0.8.2 in /usr/local/lib/python3.8/dist-packages (from dask!=2022.10.1,>=2022.2.0->evalml) (0.12.0)\n",
            "Requirement already satisfied: tqdm>=4.32.0 in /usr/local/lib/python3.8/dist-packages (from featuretools>=1.16.0->evalml) (4.64.1)\n",
            "Requirement already satisfied: holidays>=0.13 in /usr/local/lib/python3.8/dist-packages (from featuretools>=1.16.0->evalml) (0.18)\n",
            "Collecting psutil>=5.6.6\n",
            "  Downloading psutil-5.9.4-cp36-abi3-manylinux_2_12_x86_64.manylinux2010_x86_64.manylinux_2_17_x86_64.manylinux2014_x86_64.whl (280 kB)\n",
            "\u001b[2K     \u001b[90m━━━━━━━━━━━━━━━━━━━━━━━━━━━━━━━━━━━━━━━\u001b[0m \u001b[32m280.2/280.2 KB\u001b[0m \u001b[31m7.3 MB/s\u001b[0m eta \u001b[36m0:00:00\u001b[0m\n",
            "\u001b[?25hRequirement already satisfied: distributed!=2022.10.1,>=2022.2.0 in /usr/local/lib/python3.8/dist-packages (from featuretools>=1.16.0->evalml) (2022.2.1)\n",
            "Requirement already satisfied: threadpoolctl>=2.0.0 in /usr/local/lib/python3.8/dist-packages (from imbalanced-learn>=0.9.1->evalml) (3.1.0)\n",
            "Requirement already satisfied: joblib>=1.1.1 in /usr/local/lib/python3.8/dist-packages (from imbalanced-learn>=0.9.1->evalml) (1.2.0)\n",
            "Requirement already satisfied: ipykernel>=4.5.1 in /usr/local/lib/python3.8/dist-packages (from ipywidgets>=7.5->evalml) (5.3.4)\n",
            "Requirement already satisfied: ipython>=4.0.0 in /usr/local/lib/python3.8/dist-packages (from ipywidgets>=7.5->evalml) (7.9.0)\n",
            "Requirement already satisfied: traitlets>=4.3.1 in /usr/local/lib/python3.8/dist-packages (from ipywidgets>=7.5->evalml) (5.7.1)\n",
            "Requirement already satisfied: jupyterlab-widgets>=1.0.0 in /usr/local/lib/python3.8/dist-packages (from ipywidgets>=7.5->evalml) (3.0.5)\n",
            "Requirement already satisfied: widgetsnbextension~=3.6.0 in /usr/local/lib/python3.8/dist-packages (from ipywidgets>=7.5->evalml) (3.6.1)\n",
            "Requirement already satisfied: ipython-genutils~=0.2.0 in /usr/local/lib/python3.8/dist-packages (from ipywidgets>=7.5->evalml) (0.2.0)\n",
            "Requirement already satisfied: wheel in /usr/local/lib/python3.8/dist-packages (from lightgbm>=2.3.1->evalml) (0.38.4)\n",
            "Requirement already satisfied: scikit-image>=0.12 in /usr/local/lib/python3.8/dist-packages (from lime>=0.2.0.1->evalml) (0.18.3)\n",
            "Requirement already satisfied: kiwisolver>=1.0.1 in /usr/local/lib/python3.8/dist-packages (from matplotlib>=3.3.3->evalml) (1.4.4)\n",
            "Requirement already satisfied: pyparsing>=2.2.1 in /usr/local/lib/python3.8/dist-packages (from matplotlib>=3.3.3->evalml) (3.0.9)\n",
            "Requirement already satisfied: python-dateutil>=2.7 in /usr/local/lib/python3.8/dist-packages (from matplotlib>=3.3.3->evalml) (2.8.2)\n",
            "Requirement already satisfied: cycler>=0.10 in /usr/local/lib/python3.8/dist-packages (from matplotlib>=3.3.3->evalml) (0.11.0)\n",
            "Requirement already satisfied: pillow>=6.2.0 in /usr/local/lib/python3.8/dist-packages (from matplotlib>=3.3.3->evalml) (7.1.2)\n",
            "Collecting contourpy>=1.0.1\n",
            "  Downloading contourpy-1.0.6-cp38-cp38-manylinux_2_17_x86_64.manylinux2014_x86_64.whl (295 kB)\n",
            "\u001b[2K     \u001b[90m━━━━━━━━━━━━━━━━━━━━━━━━━━━━━━━━━━━━━━━\u001b[0m \u001b[32m296.0/296.0 KB\u001b[0m \u001b[31m7.5 MB/s\u001b[0m eta \u001b[36m0:00:00\u001b[0m\n",
            "\u001b[?25hCollecting fonttools>=4.22.0\n",
            "  Downloading fonttools-4.38.0-py3-none-any.whl (965 kB)\n",
            "\u001b[2K     \u001b[90m━━━━━━━━━━━━━━━━━━━━━━━━━━━━━━━━━━━━━━\u001b[0m \u001b[32m965.4/965.4 KB\u001b[0m \u001b[31m25.8 MB/s\u001b[0m eta \u001b[36m0:00:00\u001b[0m\n",
            "\u001b[?25hRequirement already satisfied: decorator<5,>=4.3 in /usr/local/lib/python3.8/dist-packages (from networkx<2.6,>=2.5->evalml) (4.4.2)\n",
            "Requirement already satisfied: nltk>=3.4.5 in /usr/local/lib/python3.8/dist-packages (from nlp-primitives>=2.9.0->evalml) (3.7)\n",
            "Requirement already satisfied: pytz>=2020.1 in /usr/local/lib/python3.8/dist-packages (from pandas>=1.5.0->evalml) (2022.7)\n",
            "Requirement already satisfied: tenacity>=6.2.0 in /usr/local/lib/python3.8/dist-packages (from plotly>=5.0.0->evalml) (8.1.0)\n",
            "Requirement already satisfied: urllib3 in /usr/local/lib/python3.8/dist-packages (from pmdarima<2.0.0,>=1.8.1->evalml) (1.24.3)\n",
            "Requirement already satisfied: Cython!=0.29.18,>=0.29 in /usr/local/lib/python3.8/dist-packages (from pmdarima<2.0.0,>=1.8.1->evalml) (0.29.32)\n",
            "Requirement already satisfied: setuptools!=50.0.0,>=38.6.0 in /usr/local/lib/python3.8/dist-packages (from pmdarima<2.0.0,>=1.8.1->evalml) (57.4.0)\n",
            "Collecting types-setuptools>=57.0.0\n",
            "  Downloading types_setuptools-65.7.0.0-py3-none-any.whl (49 kB)\n",
            "\u001b[2K     \u001b[90m━━━━━━━━━━━━━━━━━━━━━━━━━━━━━━━━━━━━━━━━\u001b[0m \u001b[32m49.0/49.0 KB\u001b[0m \u001b[31m3.5 MB/s\u001b[0m eta \u001b[36m0:00:00\u001b[0m\n",
            "\u001b[?25hCollecting pyaml>=16.9\n",
            "  Downloading pyaml-21.10.1-py2.py3-none-any.whl (24 kB)\n",
            "Requirement already satisfied: numba in /usr/local/lib/python3.8/dist-packages (from shap>=0.40.0->evalml) (0.56.4)\n",
            "Collecting slicer==0.0.7\n",
            "  Downloading slicer-0.0.7-py3-none-any.whl (14 kB)\n",
            "Collecting deprecated>=1.2.13\n",
            "  Downloading Deprecated-1.2.13-py2.py3-none-any.whl (9.6 kB)\n",
            "Requirement already satisfied: importlib-resources>=5.10.0 in /usr/local/lib/python3.8/dist-packages (from woodwork>=0.21.1->evalml) (5.10.2)\n",
            "Requirement already satisfied: wrapt<2,>=1.10 in /usr/local/lib/python3.8/dist-packages (from deprecated>=1.2.13->sktime>=0.13.3->evalml) (1.14.1)\n",
            "Requirement already satisfied: tblib>=1.6.0 in /usr/local/lib/python3.8/dist-packages (from distributed!=2022.10.1,>=2022.2.0->featuretools>=1.16.0->evalml) (1.7.0)\n",
            "Requirement already satisfied: jinja2 in /usr/local/lib/python3.8/dist-packages (from distributed!=2022.10.1,>=2022.2.0->featuretools>=1.16.0->evalml) (2.11.3)\n",
            "Requirement already satisfied: sortedcontainers!=2.0.0,!=2.0.1 in /usr/local/lib/python3.8/dist-packages (from distributed!=2022.10.1,>=2022.2.0->featuretools>=1.16.0->evalml) (2.4.0)\n",
            "Requirement already satisfied: tornado>=6.0.3 in /usr/local/lib/python3.8/dist-packages (from distributed!=2022.10.1,>=2022.2.0->featuretools>=1.16.0->evalml) (6.0.4)\n",
            "Requirement already satisfied: zict>=0.1.3 in /usr/local/lib/python3.8/dist-packages (from distributed!=2022.10.1,>=2022.2.0->featuretools>=1.16.0->evalml) (2.2.0)\n",
            "Requirement already satisfied: msgpack>=0.6.0 in /usr/local/lib/python3.8/dist-packages (from distributed!=2022.10.1,>=2022.2.0->featuretools>=1.16.0->evalml) (1.0.4)\n",
            "Requirement already satisfied: PyMeeus in /usr/local/lib/python3.8/dist-packages (from holidays>=0.13->featuretools>=1.16.0->evalml) (0.5.12)\n",
            "Requirement already satisfied: korean-lunar-calendar in /usr/local/lib/python3.8/dist-packages (from holidays>=0.13->featuretools>=1.16.0->evalml) (0.3.1)\n",
            "Requirement already satisfied: convertdate>=2.3.0 in /usr/local/lib/python3.8/dist-packages (from holidays>=0.13->featuretools>=1.16.0->evalml) (2.4.0)\n",
            "Requirement already satisfied: hijri-converter in /usr/local/lib/python3.8/dist-packages (from holidays>=0.13->featuretools>=1.16.0->evalml) (2.2.4)\n",
            "Requirement already satisfied: zipp>=3.1.0 in /usr/local/lib/python3.8/dist-packages (from importlib-resources>=5.10.0->woodwork>=0.21.1->evalml) (3.11.0)\n",
            "Requirement already satisfied: jupyter-client in /usr/local/lib/python3.8/dist-packages (from ipykernel>=4.5.1->ipywidgets>=7.5->evalml) (6.1.12)\n",
            "Requirement already satisfied: backcall in /usr/local/lib/python3.8/dist-packages (from ipython>=4.0.0->ipywidgets>=7.5->evalml) (0.2.0)\n",
            "Collecting jedi>=0.10\n",
            "  Downloading jedi-0.18.2-py2.py3-none-any.whl (1.6 MB)\n",
            "\u001b[2K     \u001b[90m━━━━━━━━━━━━━━━━━━━━━━━━━━━━━━━━━━━━━━━━\u001b[0m \u001b[32m1.6/1.6 MB\u001b[0m \u001b[31m49.8 MB/s\u001b[0m eta \u001b[36m0:00:00\u001b[0m\n",
            "\u001b[?25hRequirement already satisfied: prompt-toolkit<2.1.0,>=2.0.0 in /usr/local/lib/python3.8/dist-packages (from ipython>=4.0.0->ipywidgets>=7.5->evalml) (2.0.10)\n",
            "Requirement already satisfied: pickleshare in /usr/local/lib/python3.8/dist-packages (from ipython>=4.0.0->ipywidgets>=7.5->evalml) (0.7.5)\n",
            "Requirement already satisfied: pexpect in /usr/local/lib/python3.8/dist-packages (from ipython>=4.0.0->ipywidgets>=7.5->evalml) (4.8.0)\n",
            "Requirement already satisfied: pygments in /usr/local/lib/python3.8/dist-packages (from ipython>=4.0.0->ipywidgets>=7.5->evalml) (2.6.1)\n",
            "Requirement already satisfied: regex>=2021.8.3 in /usr/local/lib/python3.8/dist-packages (from nltk>=3.4.5->nlp-primitives>=2.9.0->evalml) (2022.6.2)\n",
            "Requirement already satisfied: llvmlite<0.40,>=0.39.0dev0 in /usr/local/lib/python3.8/dist-packages (from numba->shap>=0.40.0->evalml) (0.39.1)\n",
            "Requirement already satisfied: importlib-metadata in /usr/local/lib/python3.8/dist-packages (from numba->shap>=0.40.0->evalml) (6.0.0)\n",
            "Requirement already satisfied: locket in /usr/local/lib/python3.8/dist-packages (from partd>=0.3.10->dask!=2022.10.1,>=2022.2.0->evalml) (1.0.0)\n",
            "Requirement already satisfied: tifffile>=2019.7.26 in /usr/local/lib/python3.8/dist-packages (from scikit-image>=0.12->lime>=0.2.0.1->evalml) (2022.10.10)\n",
            "Requirement already satisfied: PyWavelets>=1.1.1 in /usr/local/lib/python3.8/dist-packages (from scikit-image>=0.12->lime>=0.2.0.1->evalml) (1.4.1)\n",
            "Requirement already satisfied: imageio>=2.3.0 in /usr/local/lib/python3.8/dist-packages (from scikit-image>=0.12->lime>=0.2.0.1->evalml) (2.9.0)\n",
            "Collecting types-docutils\n",
            "  Downloading types_docutils-0.19.1.1-py3-none-any.whl (16 kB)\n",
            "Requirement already satisfied: notebook>=4.4.1 in /usr/local/lib/python3.8/dist-packages (from widgetsnbextension~=3.6.0->ipywidgets>=7.5->evalml) (5.7.16)\n",
            "Requirement already satisfied: parso<0.9.0,>=0.8.0 in /usr/local/lib/python3.8/dist-packages (from jedi>=0.10->ipython>=4.0.0->ipywidgets>=7.5->evalml) (0.8.3)\n",
            "Requirement already satisfied: jupyter-core>=4.4.0 in /usr/local/lib/python3.8/dist-packages (from notebook>=4.4.1->widgetsnbextension~=3.6.0->ipywidgets>=7.5->evalml) (5.1.2)\n",
            "Requirement already satisfied: nbformat in /usr/local/lib/python3.8/dist-packages (from notebook>=4.4.1->widgetsnbextension~=3.6.0->ipywidgets>=7.5->evalml) (5.7.1)\n",
            "Requirement already satisfied: terminado>=0.8.1 in /usr/local/lib/python3.8/dist-packages (from notebook>=4.4.1->widgetsnbextension~=3.6.0->ipywidgets>=7.5->evalml) (0.13.3)\n",
            "Requirement already satisfied: nbconvert<6.0 in /usr/local/lib/python3.8/dist-packages (from notebook>=4.4.1->widgetsnbextension~=3.6.0->ipywidgets>=7.5->evalml) (5.6.1)\n",
            "Requirement already satisfied: Send2Trash in /usr/local/lib/python3.8/dist-packages (from notebook>=4.4.1->widgetsnbextension~=3.6.0->ipywidgets>=7.5->evalml) (1.8.0)\n",
            "Requirement already satisfied: prometheus-client in /usr/local/lib/python3.8/dist-packages (from notebook>=4.4.1->widgetsnbextension~=3.6.0->ipywidgets>=7.5->evalml) (0.15.0)\n",
            "Requirement already satisfied: MarkupSafe>=0.23 in /usr/local/lib/python3.8/dist-packages (from jinja2->distributed!=2022.10.1,>=2022.2.0->featuretools>=1.16.0->evalml) (2.0.1)\n",
            "Requirement already satisfied: wcwidth in /usr/local/lib/python3.8/dist-packages (from prompt-toolkit<2.1.0,>=2.0.0->ipython>=4.0.0->ipywidgets>=7.5->evalml) (0.2.5)\n",
            "Requirement already satisfied: heapdict in /usr/local/lib/python3.8/dist-packages (from zict>=0.1.3->distributed!=2022.10.1,>=2022.2.0->featuretools>=1.16.0->evalml) (1.0.1)\n",
            "Requirement already satisfied: ptyprocess>=0.5 in /usr/local/lib/python3.8/dist-packages (from pexpect->ipython>=4.0.0->ipywidgets>=7.5->evalml) (0.7.0)\n",
            "Requirement already satisfied: platformdirs>=2.5 in /usr/local/lib/python3.8/dist-packages (from jupyter-core>=4.4.0->notebook>=4.4.1->widgetsnbextension~=3.6.0->ipywidgets>=7.5->evalml) (2.6.2)\n",
            "Requirement already satisfied: defusedxml in /usr/local/lib/python3.8/dist-packages (from nbconvert<6.0->notebook>=4.4.1->widgetsnbextension~=3.6.0->ipywidgets>=7.5->evalml) (0.7.1)\n",
            "Requirement already satisfied: bleach in /usr/local/lib/python3.8/dist-packages (from nbconvert<6.0->notebook>=4.4.1->widgetsnbextension~=3.6.0->ipywidgets>=7.5->evalml) (5.0.1)\n",
            "Requirement already satisfied: testpath in /usr/local/lib/python3.8/dist-packages (from nbconvert<6.0->notebook>=4.4.1->widgetsnbextension~=3.6.0->ipywidgets>=7.5->evalml) (0.6.0)\n",
            "Requirement already satisfied: pandocfilters>=1.4.1 in /usr/local/lib/python3.8/dist-packages (from nbconvert<6.0->notebook>=4.4.1->widgetsnbextension~=3.6.0->ipywidgets>=7.5->evalml) (1.5.0)\n",
            "Requirement already satisfied: entrypoints>=0.2.2 in /usr/local/lib/python3.8/dist-packages (from nbconvert<6.0->notebook>=4.4.1->widgetsnbextension~=3.6.0->ipywidgets>=7.5->evalml) (0.4)\n",
            "Requirement already satisfied: mistune<2,>=0.8.1 in /usr/local/lib/python3.8/dist-packages (from nbconvert<6.0->notebook>=4.4.1->widgetsnbextension~=3.6.0->ipywidgets>=7.5->evalml) (0.8.4)\n",
            "Requirement already satisfied: jsonschema>=2.6 in /usr/local/lib/python3.8/dist-packages (from nbformat->notebook>=4.4.1->widgetsnbextension~=3.6.0->ipywidgets>=7.5->evalml) (4.3.3)\n",
            "Requirement already satisfied: fastjsonschema in /usr/local/lib/python3.8/dist-packages (from nbformat->notebook>=4.4.1->widgetsnbextension~=3.6.0->ipywidgets>=7.5->evalml) (2.16.2)\n",
            "Requirement already satisfied: attrs>=17.4.0 in /usr/local/lib/python3.8/dist-packages (from jsonschema>=2.6->nbformat->notebook>=4.4.1->widgetsnbextension~=3.6.0->ipywidgets>=7.5->evalml) (22.2.0)\n",
            "Requirement already satisfied: pyrsistent!=0.17.0,!=0.17.1,!=0.17.2,>=0.14.0 in /usr/local/lib/python3.8/dist-packages (from jsonschema>=2.6->nbformat->notebook>=4.4.1->widgetsnbextension~=3.6.0->ipywidgets>=7.5->evalml) (0.19.3)\n",
            "Requirement already satisfied: webencodings in /usr/local/lib/python3.8/dist-packages (from bleach->nbconvert<6.0->notebook>=4.4.1->widgetsnbextension~=3.6.0->ipywidgets>=7.5->evalml) (0.5.1)\n",
            "Building wheels for collected packages: lime\n",
            "  Building wheel for lime (setup.py) ... \u001b[?25l\u001b[?25hdone\n",
            "  Created wheel for lime: filename=lime-0.2.0.1-py3-none-any.whl size=283857 sha256=862fbefcac57cda3a23b8ab1682c36018eef9d79a80dd6edd3146584db7f02b2\n",
            "  Stored in directory: /root/.cache/pip/wheels/e6/a6/20/cc1e293fcdb67ede666fed293cb895395e7ecceb4467779546\n",
            "Successfully built lime\n",
            "Installing collected packages: types-docutils, texttable, kaleido, vowpalwabbit, types-setuptools, slicer, pyaml, psutil, networkx, jedi, graphviz, fonttools, deprecated, contourpy, colorama, xgboost, scikit-learn, requirements-parser, pandas, matplotlib, woodwork, shap, scikit-optimize, lightgbm, imbalanced-learn, catboost, sktime, pmdarima, lime, category-encoders, featuretools, nlp-primitives, evalml\n",
            "  Attempting uninstall: psutil\n",
            "    Found existing installation: psutil 5.4.8\n",
            "    Uninstalling psutil-5.4.8:\n",
            "      Successfully uninstalled psutil-5.4.8\n",
            "  Attempting uninstall: networkx\n",
            "    Found existing installation: networkx 2.8.8\n",
            "    Uninstalling networkx-2.8.8:\n",
            "      Successfully uninstalled networkx-2.8.8\n",
            "  Attempting uninstall: graphviz\n",
            "    Found existing installation: graphviz 0.10.1\n",
            "    Uninstalling graphviz-0.10.1:\n",
            "      Successfully uninstalled graphviz-0.10.1\n",
            "  Attempting uninstall: xgboost\n",
            "    Found existing installation: xgboost 0.90\n",
            "    Uninstalling xgboost-0.90:\n",
            "      Successfully uninstalled xgboost-0.90\n",
            "  Attempting uninstall: scikit-learn\n",
            "    Found existing installation: scikit-learn 1.0.2\n",
            "    Uninstalling scikit-learn-1.0.2:\n",
            "      Successfully uninstalled scikit-learn-1.0.2\n",
            "  Attempting uninstall: pandas\n",
            "    Found existing installation: pandas 1.3.5\n",
            "    Uninstalling pandas-1.3.5:\n",
            "      Successfully uninstalled pandas-1.3.5\n",
            "  Attempting uninstall: matplotlib\n",
            "    Found existing installation: matplotlib 3.2.2\n",
            "    Uninstalling matplotlib-3.2.2:\n",
            "      Successfully uninstalled matplotlib-3.2.2\n",
            "  Attempting uninstall: lightgbm\n",
            "    Found existing installation: lightgbm 2.2.3\n",
            "    Uninstalling lightgbm-2.2.3:\n",
            "      Successfully uninstalled lightgbm-2.2.3\n",
            "  Attempting uninstall: imbalanced-learn\n",
            "    Found existing installation: imbalanced-learn 0.8.1\n",
            "    Uninstalling imbalanced-learn-0.8.1:\n",
            "      Successfully uninstalled imbalanced-learn-0.8.1\n",
            "Successfully installed catboost-1.1.1 category-encoders-2.5.1.post0 colorama-0.4.6 contourpy-1.0.6 deprecated-1.2.13 evalml-0.65.0 featuretools-1.20.0 fonttools-4.38.0 graphviz-0.20.1 imbalanced-learn-0.10.1 jedi-0.18.2 kaleido-0.2.1 lightgbm-3.3.4 lime-0.2.0.1 matplotlib-3.6.3 networkx-2.5.1 nlp-primitives-2.10.0 pandas-1.5.2 pmdarima-1.8.5 psutil-5.9.4 pyaml-21.10.1 requirements-parser-0.5.0 scikit-learn-1.1.3 scikit-optimize-0.9.0 shap-0.41.0 sktime-0.15.1 slicer-0.0.7 texttable-1.6.7 types-docutils-0.19.1.1 types-setuptools-65.7.0.0 vowpalwabbit-9.6.0 woodwork-0.21.2 xgboost-1.7.3\n"
          ]
        },
        {
          "output_type": "display_data",
          "data": {
            "application/vnd.colab-display-data+json": {
              "pip_warning": {
                "packages": [
                  "matplotlib",
                  "mpl_toolkits",
                  "psutil"
                ]
              }
            }
          },
          "metadata": {}
        }
      ],
      "source": [
        "!pip install evalml"
      ]
    },
    {
      "cell_type": "code",
      "source": [
        "import evalml"
      ],
      "metadata": {
        "colab": {
          "base_uri": "https://localhost:8080/"
        },
        "id": "Pol0Gib6qM0t",
        "outputId": "5c60c418-afc4-4f15-e747-93b83e3a7e96"
      },
      "execution_count": 1,
      "outputs": [
        {
          "output_type": "stream",
          "name": "stderr",
          "text": [
            "pandas.Int64Index is deprecated and will be removed from pandas in a future version. Use pandas.Index with the appropriate dtype instead.\n",
            "pandas.Float64Index is deprecated and will be removed from pandas in a future version. Use pandas.Index with the appropriate dtype instead.\n"
          ]
        }
      ]
    },
    {
      "cell_type": "code",
      "source": [
        "import numpy as np\n",
        "import pandas as pd\n",
        "import matplotlib.pyplot as plt\n",
        "import seaborn as sns"
      ],
      "metadata": {
        "id": "smcNRkNOqb4B"
      },
      "execution_count": 2,
      "outputs": []
    },
    {
      "cell_type": "code",
      "source": [
        "df1=pd.read_csv(\"applicant.csv\")\n",
        "df2=pd.read_csv(\"loan.csv\")"
      ],
      "metadata": {
        "id": "9ws9hON4qQHE"
      },
      "execution_count": 3,
      "outputs": []
    },
    {
      "cell_type": "code",
      "source": [
        "df=pd.merge(df1, df2)"
      ],
      "metadata": {
        "id": "tVIG-amJrFcC"
      },
      "execution_count": 4,
      "outputs": []
    },
    {
      "cell_type": "code",
      "source": [
        "X = df.drop(columns=['high_risk_applicant'])\n",
        "y = df['high_risk_applicant']"
      ],
      "metadata": {
        "id": "2n-DDIMDrQmW"
      },
      "execution_count": 5,
      "outputs": []
    },
    {
      "cell_type": "code",
      "source": [
        "X_train, X_test, y_train, y_test = evalml.preprocessing.split_data(X, y, problem_type='binary')"
      ],
      "metadata": {
        "id": "hghkLVbtrUGj"
      },
      "execution_count": 6,
      "outputs": []
    },
    {
      "cell_type": "code",
      "source": [
        "from evalml.automl import AutoMLSearch\n",
        "automl = AutoMLSearch(X_train=X_train, y_train=y_train, problem_type='binary')\n",
        "automl.search()\n",
        "automl.rankings"
      ],
      "metadata": {
        "id": "w664ibvLrZ1A",
        "outputId": "052b6556-6133-41ba-e800-53b2709b8da9",
        "colab": {
          "base_uri": "https://localhost:8080/",
          "height": 1000
        }
      },
      "execution_count": 7,
      "outputs": [
        {
          "output_type": "stream",
          "name": "stderr",
          "text": [
            "WARNING:evalml.automl.automl_search:\tHigh coefficient of variation (cv >= 0.5) within cross validation scores.\n",
            "\tDecision Tree Classifier w/ Label Encoder + Select Columns By Type Transformer + Label Encoder + Replace Nullable Types Transformer + Drop Columns Transformer + Imputer + Select Columns Transformer + Select Columns Transformer + Label Encoder + Replace Nullable Types Transformer + Imputer + One Hot Encoder may not perform as estimated on unseen data.\n"
          ]
        },
        {
          "output_type": "execute_result",
          "data": {
            "text/plain": [
              "    id                                      pipeline_name  search_order  \\\n",
              "0    4  Random Forest Classifier w/ Label Encoder + Re...             4   \n",
              "1    2  Random Forest Classifier w/ Label Encoder + Re...             2   \n",
              "2    3  Logistic Regression Classifier w/ Label Encode...             3   \n",
              "3    8  Elastic Net Classifier w/ Label Encoder + Sele...             8   \n",
              "4    7  Extra Trees Classifier w/ Label Encoder + Sele...             7   \n",
              "5    1  Logistic Regression Classifier w/ Label Encode...             1   \n",
              "6   10  XGBoost Classifier w/ Label Encoder + Select C...            10   \n",
              "7    6  LightGBM Classifier w/ Label Encoder + Select ...             6   \n",
              "8    9  CatBoost Classifier w/ Label Encoder + Select ...             9   \n",
              "9    5  Decision Tree Classifier w/ Label Encoder + Se...             5   \n",
              "10   0       Mode Baseline Binary Classification Pipeline             0   \n",
              "\n",
              "    ranking_score  mean_cv_score  standard_deviation_cv_score  \\\n",
              "0        0.549160       0.549160                     0.013710   \n",
              "1        0.554128       0.554128                     0.010360   \n",
              "2        0.554681       0.554681                     0.027282   \n",
              "3        0.557622       0.557622                     0.029038   \n",
              "4        0.563713       0.563713                     0.016179   \n",
              "5        0.568448       0.568448                     0.023545   \n",
              "6        0.607897       0.607897                     0.011610   \n",
              "7        0.643946       0.643946                     0.025518   \n",
              "8        0.655517       0.655517                     0.004772   \n",
              "9        2.329643       2.329643                     0.465201   \n",
              "10      10.361665      10.361665                     0.022462   \n",
              "\n",
              "    percent_better_than_baseline  high_variance_cv  \\\n",
              "0                      94.700081             False   \n",
              "1                      94.652134             False   \n",
              "2                      94.646800             False   \n",
              "3                      94.618413             False   \n",
              "4                      94.559632             False   \n",
              "5                      94.513932             False   \n",
              "6                      94.133215             False   \n",
              "7                      93.785301             False   \n",
              "8                      93.673635             False   \n",
              "9                      77.516710              True   \n",
              "10                      0.000000             False   \n",
              "\n",
              "                                           parameters  \n",
              "0   {'Label Encoder': {'positive_label': None}, 'D...  \n",
              "1   {'Label Encoder': {'positive_label': None}, 'D...  \n",
              "2   {'Label Encoder': {'positive_label': None}, 'D...  \n",
              "3   {'Label Encoder': {'positive_label': None}, 'N...  \n",
              "4   {'Label Encoder': {'positive_label': None}, 'N...  \n",
              "5   {'Label Encoder': {'positive_label': None}, 'D...  \n",
              "6   {'Label Encoder': {'positive_label': None}, 'N...  \n",
              "7   {'Label Encoder': {'positive_label': None}, 'N...  \n",
              "8   {'Label Encoder': {'positive_label': None}, 'N...  \n",
              "9   {'Label Encoder': {'positive_label': None}, 'N...  \n",
              "10  {'Label Encoder': {'positive_label': None}, 'B...  "
            ],
            "text/html": [
              "\n",
              "  <div id=\"df-ce996b4f-ab96-44e2-be17-e82a9f3eacc5\">\n",
              "    <div class=\"colab-df-container\">\n",
              "      <div>\n",
              "<style scoped>\n",
              "    .dataframe tbody tr th:only-of-type {\n",
              "        vertical-align: middle;\n",
              "    }\n",
              "\n",
              "    .dataframe tbody tr th {\n",
              "        vertical-align: top;\n",
              "    }\n",
              "\n",
              "    .dataframe thead th {\n",
              "        text-align: right;\n",
              "    }\n",
              "</style>\n",
              "<table border=\"1\" class=\"dataframe\">\n",
              "  <thead>\n",
              "    <tr style=\"text-align: right;\">\n",
              "      <th></th>\n",
              "      <th>id</th>\n",
              "      <th>pipeline_name</th>\n",
              "      <th>search_order</th>\n",
              "      <th>ranking_score</th>\n",
              "      <th>mean_cv_score</th>\n",
              "      <th>standard_deviation_cv_score</th>\n",
              "      <th>percent_better_than_baseline</th>\n",
              "      <th>high_variance_cv</th>\n",
              "      <th>parameters</th>\n",
              "    </tr>\n",
              "  </thead>\n",
              "  <tbody>\n",
              "    <tr>\n",
              "      <th>0</th>\n",
              "      <td>4</td>\n",
              "      <td>Random Forest Classifier w/ Label Encoder + Re...</td>\n",
              "      <td>4</td>\n",
              "      <td>0.549160</td>\n",
              "      <td>0.549160</td>\n",
              "      <td>0.013710</td>\n",
              "      <td>94.700081</td>\n",
              "      <td>False</td>\n",
              "      <td>{'Label Encoder': {'positive_label': None}, 'D...</td>\n",
              "    </tr>\n",
              "    <tr>\n",
              "      <th>1</th>\n",
              "      <td>2</td>\n",
              "      <td>Random Forest Classifier w/ Label Encoder + Re...</td>\n",
              "      <td>2</td>\n",
              "      <td>0.554128</td>\n",
              "      <td>0.554128</td>\n",
              "      <td>0.010360</td>\n",
              "      <td>94.652134</td>\n",
              "      <td>False</td>\n",
              "      <td>{'Label Encoder': {'positive_label': None}, 'D...</td>\n",
              "    </tr>\n",
              "    <tr>\n",
              "      <th>2</th>\n",
              "      <td>3</td>\n",
              "      <td>Logistic Regression Classifier w/ Label Encode...</td>\n",
              "      <td>3</td>\n",
              "      <td>0.554681</td>\n",
              "      <td>0.554681</td>\n",
              "      <td>0.027282</td>\n",
              "      <td>94.646800</td>\n",
              "      <td>False</td>\n",
              "      <td>{'Label Encoder': {'positive_label': None}, 'D...</td>\n",
              "    </tr>\n",
              "    <tr>\n",
              "      <th>3</th>\n",
              "      <td>8</td>\n",
              "      <td>Elastic Net Classifier w/ Label Encoder + Sele...</td>\n",
              "      <td>8</td>\n",
              "      <td>0.557622</td>\n",
              "      <td>0.557622</td>\n",
              "      <td>0.029038</td>\n",
              "      <td>94.618413</td>\n",
              "      <td>False</td>\n",
              "      <td>{'Label Encoder': {'positive_label': None}, 'N...</td>\n",
              "    </tr>\n",
              "    <tr>\n",
              "      <th>4</th>\n",
              "      <td>7</td>\n",
              "      <td>Extra Trees Classifier w/ Label Encoder + Sele...</td>\n",
              "      <td>7</td>\n",
              "      <td>0.563713</td>\n",
              "      <td>0.563713</td>\n",
              "      <td>0.016179</td>\n",
              "      <td>94.559632</td>\n",
              "      <td>False</td>\n",
              "      <td>{'Label Encoder': {'positive_label': None}, 'N...</td>\n",
              "    </tr>\n",
              "    <tr>\n",
              "      <th>5</th>\n",
              "      <td>1</td>\n",
              "      <td>Logistic Regression Classifier w/ Label Encode...</td>\n",
              "      <td>1</td>\n",
              "      <td>0.568448</td>\n",
              "      <td>0.568448</td>\n",
              "      <td>0.023545</td>\n",
              "      <td>94.513932</td>\n",
              "      <td>False</td>\n",
              "      <td>{'Label Encoder': {'positive_label': None}, 'D...</td>\n",
              "    </tr>\n",
              "    <tr>\n",
              "      <th>6</th>\n",
              "      <td>10</td>\n",
              "      <td>XGBoost Classifier w/ Label Encoder + Select C...</td>\n",
              "      <td>10</td>\n",
              "      <td>0.607897</td>\n",
              "      <td>0.607897</td>\n",
              "      <td>0.011610</td>\n",
              "      <td>94.133215</td>\n",
              "      <td>False</td>\n",
              "      <td>{'Label Encoder': {'positive_label': None}, 'N...</td>\n",
              "    </tr>\n",
              "    <tr>\n",
              "      <th>7</th>\n",
              "      <td>6</td>\n",
              "      <td>LightGBM Classifier w/ Label Encoder + Select ...</td>\n",
              "      <td>6</td>\n",
              "      <td>0.643946</td>\n",
              "      <td>0.643946</td>\n",
              "      <td>0.025518</td>\n",
              "      <td>93.785301</td>\n",
              "      <td>False</td>\n",
              "      <td>{'Label Encoder': {'positive_label': None}, 'N...</td>\n",
              "    </tr>\n",
              "    <tr>\n",
              "      <th>8</th>\n",
              "      <td>9</td>\n",
              "      <td>CatBoost Classifier w/ Label Encoder + Select ...</td>\n",
              "      <td>9</td>\n",
              "      <td>0.655517</td>\n",
              "      <td>0.655517</td>\n",
              "      <td>0.004772</td>\n",
              "      <td>93.673635</td>\n",
              "      <td>False</td>\n",
              "      <td>{'Label Encoder': {'positive_label': None}, 'N...</td>\n",
              "    </tr>\n",
              "    <tr>\n",
              "      <th>9</th>\n",
              "      <td>5</td>\n",
              "      <td>Decision Tree Classifier w/ Label Encoder + Se...</td>\n",
              "      <td>5</td>\n",
              "      <td>2.329643</td>\n",
              "      <td>2.329643</td>\n",
              "      <td>0.465201</td>\n",
              "      <td>77.516710</td>\n",
              "      <td>True</td>\n",
              "      <td>{'Label Encoder': {'positive_label': None}, 'N...</td>\n",
              "    </tr>\n",
              "    <tr>\n",
              "      <th>10</th>\n",
              "      <td>0</td>\n",
              "      <td>Mode Baseline Binary Classification Pipeline</td>\n",
              "      <td>0</td>\n",
              "      <td>10.361665</td>\n",
              "      <td>10.361665</td>\n",
              "      <td>0.022462</td>\n",
              "      <td>0.000000</td>\n",
              "      <td>False</td>\n",
              "      <td>{'Label Encoder': {'positive_label': None}, 'B...</td>\n",
              "    </tr>\n",
              "  </tbody>\n",
              "</table>\n",
              "</div>\n",
              "      <button class=\"colab-df-convert\" onclick=\"convertToInteractive('df-ce996b4f-ab96-44e2-be17-e82a9f3eacc5')\"\n",
              "              title=\"Convert this dataframe to an interactive table.\"\n",
              "              style=\"display:none;\">\n",
              "        \n",
              "  <svg xmlns=\"http://www.w3.org/2000/svg\" height=\"24px\"viewBox=\"0 0 24 24\"\n",
              "       width=\"24px\">\n",
              "    <path d=\"M0 0h24v24H0V0z\" fill=\"none\"/>\n",
              "    <path d=\"M18.56 5.44l.94 2.06.94-2.06 2.06-.94-2.06-.94-.94-2.06-.94 2.06-2.06.94zm-11 1L8.5 8.5l.94-2.06 2.06-.94-2.06-.94L8.5 2.5l-.94 2.06-2.06.94zm10 10l.94 2.06.94-2.06 2.06-.94-2.06-.94-.94-2.06-.94 2.06-2.06.94z\"/><path d=\"M17.41 7.96l-1.37-1.37c-.4-.4-.92-.59-1.43-.59-.52 0-1.04.2-1.43.59L10.3 9.45l-7.72 7.72c-.78.78-.78 2.05 0 2.83L4 21.41c.39.39.9.59 1.41.59.51 0 1.02-.2 1.41-.59l7.78-7.78 2.81-2.81c.8-.78.8-2.07 0-2.86zM5.41 20L4 18.59l7.72-7.72 1.47 1.35L5.41 20z\"/>\n",
              "  </svg>\n",
              "      </button>\n",
              "      \n",
              "  <style>\n",
              "    .colab-df-container {\n",
              "      display:flex;\n",
              "      flex-wrap:wrap;\n",
              "      gap: 12px;\n",
              "    }\n",
              "\n",
              "    .colab-df-convert {\n",
              "      background-color: #E8F0FE;\n",
              "      border: none;\n",
              "      border-radius: 50%;\n",
              "      cursor: pointer;\n",
              "      display: none;\n",
              "      fill: #1967D2;\n",
              "      height: 32px;\n",
              "      padding: 0 0 0 0;\n",
              "      width: 32px;\n",
              "    }\n",
              "\n",
              "    .colab-df-convert:hover {\n",
              "      background-color: #E2EBFA;\n",
              "      box-shadow: 0px 1px 2px rgba(60, 64, 67, 0.3), 0px 1px 3px 1px rgba(60, 64, 67, 0.15);\n",
              "      fill: #174EA6;\n",
              "    }\n",
              "\n",
              "    [theme=dark] .colab-df-convert {\n",
              "      background-color: #3B4455;\n",
              "      fill: #D2E3FC;\n",
              "    }\n",
              "\n",
              "    [theme=dark] .colab-df-convert:hover {\n",
              "      background-color: #434B5C;\n",
              "      box-shadow: 0px 1px 3px 1px rgba(0, 0, 0, 0.15);\n",
              "      filter: drop-shadow(0px 1px 2px rgba(0, 0, 0, 0.3));\n",
              "      fill: #FFFFFF;\n",
              "    }\n",
              "  </style>\n",
              "\n",
              "      <script>\n",
              "        const buttonEl =\n",
              "          document.querySelector('#df-ce996b4f-ab96-44e2-be17-e82a9f3eacc5 button.colab-df-convert');\n",
              "        buttonEl.style.display =\n",
              "          google.colab.kernel.accessAllowed ? 'block' : 'none';\n",
              "\n",
              "        async function convertToInteractive(key) {\n",
              "          const element = document.querySelector('#df-ce996b4f-ab96-44e2-be17-e82a9f3eacc5');\n",
              "          const dataTable =\n",
              "            await google.colab.kernel.invokeFunction('convertToInteractive',\n",
              "                                                     [key], {});\n",
              "          if (!dataTable) return;\n",
              "\n",
              "          const docLinkHtml = 'Like what you see? Visit the ' +\n",
              "            '<a target=\"_blank\" href=https://colab.research.google.com/notebooks/data_table.ipynb>data table notebook</a>'\n",
              "            + ' to learn more about interactive tables.';\n",
              "          element.innerHTML = '';\n",
              "          dataTable['output_type'] = 'display_data';\n",
              "          await google.colab.output.renderOutput(dataTable, element);\n",
              "          const docLink = document.createElement('div');\n",
              "          docLink.innerHTML = docLinkHtml;\n",
              "          element.appendChild(docLink);\n",
              "        }\n",
              "      </script>\n",
              "    </div>\n",
              "  </div>\n",
              "  "
            ]
          },
          "metadata": {},
          "execution_count": 7
        }
      ]
    },
    {
      "cell_type": "code",
      "source": [
        "automl.best_pipeline"
      ],
      "metadata": {
        "id": "STq8UBMSshCT",
        "outputId": "d5334ed5-6b39-43c5-bcbe-6271cf6e7c88",
        "colab": {
          "base_uri": "https://localhost:8080/"
        }
      },
      "execution_count": 8,
      "outputs": [
        {
          "output_type": "execute_result",
          "data": {
            "text/plain": [
              "pipeline = BinaryClassificationPipeline(component_graph={'Label Encoder': ['Label Encoder', 'X', 'y'], 'Replace Nullable Types Transformer': ['Replace Nullable Types Transformer', 'X', 'Label Encoder.y'], 'Drop Columns Transformer': ['Drop Columns Transformer', 'Replace Nullable Types Transformer.x', 'Replace Nullable Types Transformer.y'], 'Imputer': ['Imputer', 'Drop Columns Transformer.x', 'Replace Nullable Types Transformer.y'], 'One Hot Encoder': ['One Hot Encoder', 'Imputer.x', 'Replace Nullable Types Transformer.y'], 'RF Classifier Select From Model': ['RF Classifier Select From Model', 'One Hot Encoder.x', 'Replace Nullable Types Transformer.y'], 'Random Forest Classifier': ['Random Forest Classifier', 'RF Classifier Select From Model.x', 'Replace Nullable Types Transformer.y']}, parameters={'Label Encoder':{'positive_label': None}, 'Drop Columns Transformer':{'columns': ['loan_application_id']}, 'Imputer':{'categorical_impute_strategy': 'most_frequent', 'numeric_impute_strategy': 'mean', 'boolean_impute_strategy': 'most_frequent', 'categorical_fill_value': None, 'numeric_fill_value': None, 'boolean_fill_value': None}, 'One Hot Encoder':{'top_n': 10, 'features_to_encode': None, 'categories': None, 'drop': 'if_binary', 'handle_unknown': 'ignore', 'handle_missing': 'error'}, 'RF Classifier Select From Model':{'number_features': None, 'n_estimators': 10, 'max_depth': None, 'percent_features': 0.5, 'threshold': 'median', 'n_jobs': -1}, 'Random Forest Classifier':{'n_estimators': 100, 'max_depth': 6, 'n_jobs': -1}}, random_seed=0)"
            ]
          },
          "metadata": {},
          "execution_count": 8
        }
      ]
    },
    {
      "cell_type": "code",
      "source": [
        "best_pipeline=automl.best_pipeline"
      ],
      "metadata": {
        "id": "-Prq2dVosj6f"
      },
      "execution_count": 9,
      "outputs": []
    },
    {
      "cell_type": "code",
      "source": [
        "automl.describe_pipeline(automl.rankings.iloc[0][\"id\"])"
      ],
      "metadata": {
        "id": "r8V0rEVjsmfm",
        "outputId": "1d5c33d4-8730-4b84-aa69-25fa248a1562",
        "colab": {
          "base_uri": "https://localhost:8080/"
        }
      },
      "execution_count": 10,
      "outputs": [
        {
          "output_type": "stream",
          "name": "stdout",
          "text": [
            "\n",
            "***************************************************************************************************************************************************************************\n"
          ]
        },
        {
          "output_type": "stream",
          "name": "stderr",
          "text": [
            "INFO:evalml.pipelines.pipeline_base.describe:\n",
            "***************************************************************************************************************************************************************************\n"
          ]
        },
        {
          "output_type": "stream",
          "name": "stdout",
          "text": [
            "* Random Forest Classifier w/ Label Encoder + Replace Nullable Types Transformer + Drop Columns Transformer + Imputer + One Hot Encoder + RF Classifier Select From Model *\n"
          ]
        },
        {
          "output_type": "stream",
          "name": "stderr",
          "text": [
            "INFO:evalml.pipelines.pipeline_base.describe:* Random Forest Classifier w/ Label Encoder + Replace Nullable Types Transformer + Drop Columns Transformer + Imputer + One Hot Encoder + RF Classifier Select From Model *\n"
          ]
        },
        {
          "output_type": "stream",
          "name": "stdout",
          "text": [
            "***************************************************************************************************************************************************************************\n"
          ]
        },
        {
          "output_type": "stream",
          "name": "stderr",
          "text": [
            "INFO:evalml.pipelines.pipeline_base.describe:***************************************************************************************************************************************************************************\n"
          ]
        },
        {
          "output_type": "stream",
          "name": "stdout",
          "text": [
            "\n"
          ]
        },
        {
          "output_type": "stream",
          "name": "stderr",
          "text": [
            "INFO:evalml.pipelines.pipeline_base.describe:\n"
          ]
        },
        {
          "output_type": "stream",
          "name": "stdout",
          "text": [
            "Problem Type: binary\n"
          ]
        },
        {
          "output_type": "stream",
          "name": "stderr",
          "text": [
            "INFO:evalml.pipelines.pipeline_base.describe:Problem Type: binary\n"
          ]
        },
        {
          "output_type": "stream",
          "name": "stdout",
          "text": [
            "Model Family: Random Forest\n"
          ]
        },
        {
          "output_type": "stream",
          "name": "stderr",
          "text": [
            "INFO:evalml.pipelines.pipeline_base.describe:Model Family: Random Forest\n"
          ]
        },
        {
          "output_type": "stream",
          "name": "stdout",
          "text": [
            "\n"
          ]
        },
        {
          "output_type": "stream",
          "name": "stderr",
          "text": [
            "INFO:evalml.pipelines.pipeline_base.describe:\n"
          ]
        },
        {
          "output_type": "stream",
          "name": "stdout",
          "text": [
            "Pipeline Steps\n"
          ]
        },
        {
          "output_type": "stream",
          "name": "stderr",
          "text": [
            "INFO:evalml.pipelines.pipeline_base.describe:Pipeline Steps\n"
          ]
        },
        {
          "output_type": "stream",
          "name": "stdout",
          "text": [
            "==============\n"
          ]
        },
        {
          "output_type": "stream",
          "name": "stderr",
          "text": [
            "INFO:evalml.pipelines.pipeline_base.describe:==============\n"
          ]
        },
        {
          "output_type": "stream",
          "name": "stdout",
          "text": [
            "1. Label Encoder\n"
          ]
        },
        {
          "output_type": "stream",
          "name": "stderr",
          "text": [
            "INFO:evalml.pipelines.component_graph.describe:1. Label Encoder\n"
          ]
        },
        {
          "output_type": "stream",
          "name": "stdout",
          "text": [
            "\t * positive_label : None\n"
          ]
        },
        {
          "output_type": "stream",
          "name": "stderr",
          "text": [
            "INFO:evalml.pipelines.components.component_base.describe:\t * positive_label : None\n"
          ]
        },
        {
          "output_type": "stream",
          "name": "stdout",
          "text": [
            "2. Replace Nullable Types Transformer\n"
          ]
        },
        {
          "output_type": "stream",
          "name": "stderr",
          "text": [
            "INFO:evalml.pipelines.component_graph.describe:2. Replace Nullable Types Transformer\n"
          ]
        },
        {
          "output_type": "stream",
          "name": "stdout",
          "text": [
            "3. Drop Columns Transformer\n"
          ]
        },
        {
          "output_type": "stream",
          "name": "stderr",
          "text": [
            "INFO:evalml.pipelines.component_graph.describe:3. Drop Columns Transformer\n"
          ]
        },
        {
          "output_type": "stream",
          "name": "stdout",
          "text": [
            "\t * columns : ['loan_application_id']\n"
          ]
        },
        {
          "output_type": "stream",
          "name": "stderr",
          "text": [
            "INFO:evalml.pipelines.components.component_base.describe:\t * columns : ['loan_application_id']\n"
          ]
        },
        {
          "output_type": "stream",
          "name": "stdout",
          "text": [
            "4. Imputer\n"
          ]
        },
        {
          "output_type": "stream",
          "name": "stderr",
          "text": [
            "INFO:evalml.pipelines.component_graph.describe:4. Imputer\n"
          ]
        },
        {
          "output_type": "stream",
          "name": "stdout",
          "text": [
            "\t * categorical_impute_strategy : most_frequent\n"
          ]
        },
        {
          "output_type": "stream",
          "name": "stderr",
          "text": [
            "INFO:evalml.pipelines.components.component_base.describe:\t * categorical_impute_strategy : most_frequent\n"
          ]
        },
        {
          "output_type": "stream",
          "name": "stdout",
          "text": [
            "\t * numeric_impute_strategy : mean\n"
          ]
        },
        {
          "output_type": "stream",
          "name": "stderr",
          "text": [
            "INFO:evalml.pipelines.components.component_base.describe:\t * numeric_impute_strategy : mean\n"
          ]
        },
        {
          "output_type": "stream",
          "name": "stdout",
          "text": [
            "\t * boolean_impute_strategy : most_frequent\n"
          ]
        },
        {
          "output_type": "stream",
          "name": "stderr",
          "text": [
            "INFO:evalml.pipelines.components.component_base.describe:\t * boolean_impute_strategy : most_frequent\n"
          ]
        },
        {
          "output_type": "stream",
          "name": "stdout",
          "text": [
            "\t * categorical_fill_value : None\n"
          ]
        },
        {
          "output_type": "stream",
          "name": "stderr",
          "text": [
            "INFO:evalml.pipelines.components.component_base.describe:\t * categorical_fill_value : None\n"
          ]
        },
        {
          "output_type": "stream",
          "name": "stdout",
          "text": [
            "\t * numeric_fill_value : None\n"
          ]
        },
        {
          "output_type": "stream",
          "name": "stderr",
          "text": [
            "INFO:evalml.pipelines.components.component_base.describe:\t * numeric_fill_value : None\n"
          ]
        },
        {
          "output_type": "stream",
          "name": "stdout",
          "text": [
            "\t * boolean_fill_value : None\n"
          ]
        },
        {
          "output_type": "stream",
          "name": "stderr",
          "text": [
            "INFO:evalml.pipelines.components.component_base.describe:\t * boolean_fill_value : None\n"
          ]
        },
        {
          "output_type": "stream",
          "name": "stdout",
          "text": [
            "5. One Hot Encoder\n"
          ]
        },
        {
          "output_type": "stream",
          "name": "stderr",
          "text": [
            "INFO:evalml.pipelines.component_graph.describe:5. One Hot Encoder\n"
          ]
        },
        {
          "output_type": "stream",
          "name": "stdout",
          "text": [
            "\t * top_n : 10\n"
          ]
        },
        {
          "output_type": "stream",
          "name": "stderr",
          "text": [
            "INFO:evalml.pipelines.components.component_base.describe:\t * top_n : 10\n"
          ]
        },
        {
          "output_type": "stream",
          "name": "stdout",
          "text": [
            "\t * features_to_encode : None\n"
          ]
        },
        {
          "output_type": "stream",
          "name": "stderr",
          "text": [
            "INFO:evalml.pipelines.components.component_base.describe:\t * features_to_encode : None\n"
          ]
        },
        {
          "output_type": "stream",
          "name": "stdout",
          "text": [
            "\t * categories : None\n"
          ]
        },
        {
          "output_type": "stream",
          "name": "stderr",
          "text": [
            "INFO:evalml.pipelines.components.component_base.describe:\t * categories : None\n"
          ]
        },
        {
          "output_type": "stream",
          "name": "stdout",
          "text": [
            "\t * drop : if_binary\n"
          ]
        },
        {
          "output_type": "stream",
          "name": "stderr",
          "text": [
            "INFO:evalml.pipelines.components.component_base.describe:\t * drop : if_binary\n"
          ]
        },
        {
          "output_type": "stream",
          "name": "stdout",
          "text": [
            "\t * handle_unknown : ignore\n"
          ]
        },
        {
          "output_type": "stream",
          "name": "stderr",
          "text": [
            "INFO:evalml.pipelines.components.component_base.describe:\t * handle_unknown : ignore\n"
          ]
        },
        {
          "output_type": "stream",
          "name": "stdout",
          "text": [
            "\t * handle_missing : error\n"
          ]
        },
        {
          "output_type": "stream",
          "name": "stderr",
          "text": [
            "INFO:evalml.pipelines.components.component_base.describe:\t * handle_missing : error\n"
          ]
        },
        {
          "output_type": "stream",
          "name": "stdout",
          "text": [
            "6. RF Classifier Select From Model\n"
          ]
        },
        {
          "output_type": "stream",
          "name": "stderr",
          "text": [
            "INFO:evalml.pipelines.component_graph.describe:6. RF Classifier Select From Model\n"
          ]
        },
        {
          "output_type": "stream",
          "name": "stdout",
          "text": [
            "\t * number_features : None\n"
          ]
        },
        {
          "output_type": "stream",
          "name": "stderr",
          "text": [
            "INFO:evalml.pipelines.components.component_base.describe:\t * number_features : None\n"
          ]
        },
        {
          "output_type": "stream",
          "name": "stdout",
          "text": [
            "\t * n_estimators : 10\n"
          ]
        },
        {
          "output_type": "stream",
          "name": "stderr",
          "text": [
            "INFO:evalml.pipelines.components.component_base.describe:\t * n_estimators : 10\n"
          ]
        },
        {
          "output_type": "stream",
          "name": "stdout",
          "text": [
            "\t * max_depth : None\n"
          ]
        },
        {
          "output_type": "stream",
          "name": "stderr",
          "text": [
            "INFO:evalml.pipelines.components.component_base.describe:\t * max_depth : None\n"
          ]
        },
        {
          "output_type": "stream",
          "name": "stdout",
          "text": [
            "\t * percent_features : 0.5\n"
          ]
        },
        {
          "output_type": "stream",
          "name": "stderr",
          "text": [
            "INFO:evalml.pipelines.components.component_base.describe:\t * percent_features : 0.5\n"
          ]
        },
        {
          "output_type": "stream",
          "name": "stdout",
          "text": [
            "\t * threshold : median\n"
          ]
        },
        {
          "output_type": "stream",
          "name": "stderr",
          "text": [
            "INFO:evalml.pipelines.components.component_base.describe:\t * threshold : median\n"
          ]
        },
        {
          "output_type": "stream",
          "name": "stdout",
          "text": [
            "\t * n_jobs : -1\n"
          ]
        },
        {
          "output_type": "stream",
          "name": "stderr",
          "text": [
            "INFO:evalml.pipelines.components.component_base.describe:\t * n_jobs : -1\n"
          ]
        },
        {
          "output_type": "stream",
          "name": "stdout",
          "text": [
            "7. Random Forest Classifier\n"
          ]
        },
        {
          "output_type": "stream",
          "name": "stderr",
          "text": [
            "INFO:evalml.pipelines.component_graph.describe:7. Random Forest Classifier\n"
          ]
        },
        {
          "output_type": "stream",
          "name": "stdout",
          "text": [
            "\t * n_estimators : 100\n"
          ]
        },
        {
          "output_type": "stream",
          "name": "stderr",
          "text": [
            "INFO:evalml.pipelines.components.component_base.describe:\t * n_estimators : 100\n"
          ]
        },
        {
          "output_type": "stream",
          "name": "stdout",
          "text": [
            "\t * max_depth : 6\n"
          ]
        },
        {
          "output_type": "stream",
          "name": "stderr",
          "text": [
            "INFO:evalml.pipelines.components.component_base.describe:\t * max_depth : 6\n"
          ]
        },
        {
          "output_type": "stream",
          "name": "stdout",
          "text": [
            "\t * n_jobs : -1\n"
          ]
        },
        {
          "output_type": "stream",
          "name": "stderr",
          "text": [
            "INFO:evalml.pipelines.components.component_base.describe:\t * n_jobs : -1\n"
          ]
        },
        {
          "output_type": "stream",
          "name": "stdout",
          "text": [
            "\n"
          ]
        },
        {
          "output_type": "stream",
          "name": "stderr",
          "text": [
            "INFO:evalml.automl.automl_search.describe_pipeline:\n"
          ]
        },
        {
          "output_type": "stream",
          "name": "stdout",
          "text": [
            "Training\n"
          ]
        },
        {
          "output_type": "stream",
          "name": "stderr",
          "text": [
            "INFO:evalml.automl.automl_search.describe_pipeline:Training\n"
          ]
        },
        {
          "output_type": "stream",
          "name": "stdout",
          "text": [
            "========\n"
          ]
        },
        {
          "output_type": "stream",
          "name": "stderr",
          "text": [
            "INFO:evalml.automl.automl_search.describe_pipeline:========\n"
          ]
        },
        {
          "output_type": "stream",
          "name": "stdout",
          "text": [
            "Training for binary problems.\n"
          ]
        },
        {
          "output_type": "stream",
          "name": "stderr",
          "text": [
            "INFO:evalml.automl.automl_search.describe_pipeline:Training for binary problems.\n"
          ]
        },
        {
          "output_type": "stream",
          "name": "stdout",
          "text": [
            "Total training time (including CV): 4.8 seconds\n"
          ]
        },
        {
          "output_type": "stream",
          "name": "stderr",
          "text": [
            "INFO:evalml.automl.automl_search.describe_pipeline:Total training time (including CV): 4.8 seconds\n"
          ]
        },
        {
          "output_type": "stream",
          "name": "stdout",
          "text": [
            "\n"
          ]
        },
        {
          "output_type": "stream",
          "name": "stderr",
          "text": [
            "INFO:evalml.automl.automl_search.describe_pipeline:\n"
          ]
        },
        {
          "output_type": "stream",
          "name": "stdout",
          "text": [
            "Cross Validation\n"
          ]
        },
        {
          "output_type": "stream",
          "name": "stderr",
          "text": [
            "INFO:evalml.automl.automl_search.describe_pipeline:Cross Validation\n"
          ]
        },
        {
          "output_type": "stream",
          "name": "stdout",
          "text": [
            "----------------\n"
          ]
        },
        {
          "output_type": "stream",
          "name": "stderr",
          "text": [
            "INFO:evalml.automl.automl_search.describe_pipeline:----------------\n"
          ]
        },
        {
          "output_type": "stream",
          "name": "stdout",
          "text": [
            "             Log Loss Binary  MCC Binary  Gini   AUC  Precision    F1  Balanced Accuracy Binary  Accuracy Binary # Training # Validation\n",
            "0                      0.537       0.305 0.485 0.742      0.445 0.548                     0.666            0.648        533          267\n",
            "1                      0.564       0.265 0.390 0.695      0.463 0.503                     0.639            0.674        533          267\n",
            "2                      0.546       0.237 0.440 0.720      0.390 0.519                     0.627            0.568        534          266\n",
            "mean                   0.549       0.269 0.438 0.719      0.433 0.523                     0.644            0.630          -            -\n",
            "std                    0.014       0.034 0.047 0.024      0.038 0.023                     0.020            0.055          -            -\n",
            "coef of var            0.025       0.127 0.108 0.033      0.088 0.044                     0.032            0.088          -            -\n"
          ]
        },
        {
          "output_type": "stream",
          "name": "stderr",
          "text": [
            "INFO:evalml.automl.automl_search.describe_pipeline:             Log Loss Binary  MCC Binary  Gini   AUC  Precision    F1  Balanced Accuracy Binary  Accuracy Binary # Training # Validation\n",
            "0                      0.537       0.305 0.485 0.742      0.445 0.548                     0.666            0.648        533          267\n",
            "1                      0.564       0.265 0.390 0.695      0.463 0.503                     0.639            0.674        533          267\n",
            "2                      0.546       0.237 0.440 0.720      0.390 0.519                     0.627            0.568        534          266\n",
            "mean                   0.549       0.269 0.438 0.719      0.433 0.523                     0.644            0.630          -            -\n",
            "std                    0.014       0.034 0.047 0.024      0.038 0.023                     0.020            0.055          -            -\n",
            "coef of var            0.025       0.127 0.108 0.033      0.088 0.044                     0.032            0.088          -            -\n"
          ]
        }
      ]
    },
    {
      "cell_type": "code",
      "source": [
        "best_pipeline.score(X_test, y_test, objectives=[\"auc\",\"f1\",\"Precision\",\"Recall\"])"
      ],
      "metadata": {
        "id": "JdmlE8czsqd0",
        "outputId": "44e71b90-258f-4117-eaad-fb566b7e3577",
        "colab": {
          "base_uri": "https://localhost:8080/"
        }
      },
      "execution_count": 11,
      "outputs": [
        {
          "output_type": "execute_result",
          "data": {
            "text/plain": [
              "OrderedDict([('AUC', 0.6639285714285715),\n",
              "             ('F1', 0.5),\n",
              "             ('Precision', 0.38392857142857145),\n",
              "             ('Recall', 0.7166666666666667)])"
            ]
          },
          "metadata": {},
          "execution_count": 11
        }
      ]
    },
    {
      "cell_type": "code",
      "source": [
        "automl_auc = AutoMLSearch(X_train=X_train, y_train=y_train,\n",
        "                          problem_type='binary',\n",
        "                          objective='auc',\n",
        "                          additional_objectives=['f1', 'precision'],\n",
        "                          max_batches=1,\n",
        "                          optimize_thresholds=True)\n",
        "\n",
        "automl_auc.search()\n",
        "automl_auc.rankings"
      ],
      "metadata": {
        "id": "AvvRglsIswK_",
        "outputId": "159616cd-0e40-43e5-8f85-05a55b145748",
        "colab": {
          "base_uri": "https://localhost:8080/",
          "height": 364
        }
      },
      "execution_count": 12,
      "outputs": [
        {
          "output_type": "execute_result",
          "data": {
            "text/plain": [
              "   id                                      pipeline_name  search_order  \\\n",
              "0   2  Random Forest Classifier w/ Label Encoder + Re...             2   \n",
              "1   1  Logistic Regression Classifier w/ Label Encode...             1   \n",
              "2   0       Mode Baseline Binary Classification Pipeline             0   \n",
              "\n",
              "   ranking_score  mean_cv_score  standard_deviation_cv_score  \\\n",
              "0        0.72468        0.72468                     0.030825   \n",
              "1        0.72050        0.72050                     0.022806   \n",
              "2        0.50000        0.50000                     0.000000   \n",
              "\n",
              "   percent_better_than_baseline  high_variance_cv  \\\n",
              "0                     22.467979             False   \n",
              "1                     22.049995             False   \n",
              "2                      0.000000             False   \n",
              "\n",
              "                                          parameters  \n",
              "0  {'Label Encoder': {'positive_label': None}, 'D...  \n",
              "1  {'Label Encoder': {'positive_label': None}, 'D...  \n",
              "2  {'Label Encoder': {'positive_label': None}, 'B...  "
            ],
            "text/html": [
              "\n",
              "  <div id=\"df-36971a86-cf28-4662-9834-cf6cad54e68e\">\n",
              "    <div class=\"colab-df-container\">\n",
              "      <div>\n",
              "<style scoped>\n",
              "    .dataframe tbody tr th:only-of-type {\n",
              "        vertical-align: middle;\n",
              "    }\n",
              "\n",
              "    .dataframe tbody tr th {\n",
              "        vertical-align: top;\n",
              "    }\n",
              "\n",
              "    .dataframe thead th {\n",
              "        text-align: right;\n",
              "    }\n",
              "</style>\n",
              "<table border=\"1\" class=\"dataframe\">\n",
              "  <thead>\n",
              "    <tr style=\"text-align: right;\">\n",
              "      <th></th>\n",
              "      <th>id</th>\n",
              "      <th>pipeline_name</th>\n",
              "      <th>search_order</th>\n",
              "      <th>ranking_score</th>\n",
              "      <th>mean_cv_score</th>\n",
              "      <th>standard_deviation_cv_score</th>\n",
              "      <th>percent_better_than_baseline</th>\n",
              "      <th>high_variance_cv</th>\n",
              "      <th>parameters</th>\n",
              "    </tr>\n",
              "  </thead>\n",
              "  <tbody>\n",
              "    <tr>\n",
              "      <th>0</th>\n",
              "      <td>2</td>\n",
              "      <td>Random Forest Classifier w/ Label Encoder + Re...</td>\n",
              "      <td>2</td>\n",
              "      <td>0.72468</td>\n",
              "      <td>0.72468</td>\n",
              "      <td>0.030825</td>\n",
              "      <td>22.467979</td>\n",
              "      <td>False</td>\n",
              "      <td>{'Label Encoder': {'positive_label': None}, 'D...</td>\n",
              "    </tr>\n",
              "    <tr>\n",
              "      <th>1</th>\n",
              "      <td>1</td>\n",
              "      <td>Logistic Regression Classifier w/ Label Encode...</td>\n",
              "      <td>1</td>\n",
              "      <td>0.72050</td>\n",
              "      <td>0.72050</td>\n",
              "      <td>0.022806</td>\n",
              "      <td>22.049995</td>\n",
              "      <td>False</td>\n",
              "      <td>{'Label Encoder': {'positive_label': None}, 'D...</td>\n",
              "    </tr>\n",
              "    <tr>\n",
              "      <th>2</th>\n",
              "      <td>0</td>\n",
              "      <td>Mode Baseline Binary Classification Pipeline</td>\n",
              "      <td>0</td>\n",
              "      <td>0.50000</td>\n",
              "      <td>0.50000</td>\n",
              "      <td>0.000000</td>\n",
              "      <td>0.000000</td>\n",
              "      <td>False</td>\n",
              "      <td>{'Label Encoder': {'positive_label': None}, 'B...</td>\n",
              "    </tr>\n",
              "  </tbody>\n",
              "</table>\n",
              "</div>\n",
              "      <button class=\"colab-df-convert\" onclick=\"convertToInteractive('df-36971a86-cf28-4662-9834-cf6cad54e68e')\"\n",
              "              title=\"Convert this dataframe to an interactive table.\"\n",
              "              style=\"display:none;\">\n",
              "        \n",
              "  <svg xmlns=\"http://www.w3.org/2000/svg\" height=\"24px\"viewBox=\"0 0 24 24\"\n",
              "       width=\"24px\">\n",
              "    <path d=\"M0 0h24v24H0V0z\" fill=\"none\"/>\n",
              "    <path d=\"M18.56 5.44l.94 2.06.94-2.06 2.06-.94-2.06-.94-.94-2.06-.94 2.06-2.06.94zm-11 1L8.5 8.5l.94-2.06 2.06-.94-2.06-.94L8.5 2.5l-.94 2.06-2.06.94zm10 10l.94 2.06.94-2.06 2.06-.94-2.06-.94-.94-2.06-.94 2.06-2.06.94z\"/><path d=\"M17.41 7.96l-1.37-1.37c-.4-.4-.92-.59-1.43-.59-.52 0-1.04.2-1.43.59L10.3 9.45l-7.72 7.72c-.78.78-.78 2.05 0 2.83L4 21.41c.39.39.9.59 1.41.59.51 0 1.02-.2 1.41-.59l7.78-7.78 2.81-2.81c.8-.78.8-2.07 0-2.86zM5.41 20L4 18.59l7.72-7.72 1.47 1.35L5.41 20z\"/>\n",
              "  </svg>\n",
              "      </button>\n",
              "      \n",
              "  <style>\n",
              "    .colab-df-container {\n",
              "      display:flex;\n",
              "      flex-wrap:wrap;\n",
              "      gap: 12px;\n",
              "    }\n",
              "\n",
              "    .colab-df-convert {\n",
              "      background-color: #E8F0FE;\n",
              "      border: none;\n",
              "      border-radius: 50%;\n",
              "      cursor: pointer;\n",
              "      display: none;\n",
              "      fill: #1967D2;\n",
              "      height: 32px;\n",
              "      padding: 0 0 0 0;\n",
              "      width: 32px;\n",
              "    }\n",
              "\n",
              "    .colab-df-convert:hover {\n",
              "      background-color: #E2EBFA;\n",
              "      box-shadow: 0px 1px 2px rgba(60, 64, 67, 0.3), 0px 1px 3px 1px rgba(60, 64, 67, 0.15);\n",
              "      fill: #174EA6;\n",
              "    }\n",
              "\n",
              "    [theme=dark] .colab-df-convert {\n",
              "      background-color: #3B4455;\n",
              "      fill: #D2E3FC;\n",
              "    }\n",
              "\n",
              "    [theme=dark] .colab-df-convert:hover {\n",
              "      background-color: #434B5C;\n",
              "      box-shadow: 0px 1px 3px 1px rgba(0, 0, 0, 0.15);\n",
              "      filter: drop-shadow(0px 1px 2px rgba(0, 0, 0, 0.3));\n",
              "      fill: #FFFFFF;\n",
              "    }\n",
              "  </style>\n",
              "\n",
              "      <script>\n",
              "        const buttonEl =\n",
              "          document.querySelector('#df-36971a86-cf28-4662-9834-cf6cad54e68e button.colab-df-convert');\n",
              "        buttonEl.style.display =\n",
              "          google.colab.kernel.accessAllowed ? 'block' : 'none';\n",
              "\n",
              "        async function convertToInteractive(key) {\n",
              "          const element = document.querySelector('#df-36971a86-cf28-4662-9834-cf6cad54e68e');\n",
              "          const dataTable =\n",
              "            await google.colab.kernel.invokeFunction('convertToInteractive',\n",
              "                                                     [key], {});\n",
              "          if (!dataTable) return;\n",
              "\n",
              "          const docLinkHtml = 'Like what you see? Visit the ' +\n",
              "            '<a target=\"_blank\" href=https://colab.research.google.com/notebooks/data_table.ipynb>data table notebook</a>'\n",
              "            + ' to learn more about interactive tables.';\n",
              "          element.innerHTML = '';\n",
              "          dataTable['output_type'] = 'display_data';\n",
              "          await google.colab.output.renderOutput(dataTable, element);\n",
              "          const docLink = document.createElement('div');\n",
              "          docLink.innerHTML = docLinkHtml;\n",
              "          element.appendChild(docLink);\n",
              "        }\n",
              "      </script>\n",
              "    </div>\n",
              "  </div>\n",
              "  "
            ]
          },
          "metadata": {},
          "execution_count": 12
        }
      ]
    },
    {
      "cell_type": "code",
      "source": [
        "automl_auc.describe_pipeline(automl_auc.rankings.iloc[0][\"id\"])"
      ],
      "metadata": {
        "id": "oASBghfMs4Jl",
        "outputId": "daf5b5ba-a549-430e-b677-69e4f4cdd774",
        "colab": {
          "base_uri": "https://localhost:8080/"
        }
      },
      "execution_count": 13,
      "outputs": [
        {
          "output_type": "stream",
          "name": "stdout",
          "text": [
            "\n",
            "*****************************************************************************************************************************************\n"
          ]
        },
        {
          "output_type": "stream",
          "name": "stderr",
          "text": [
            "INFO:evalml.pipelines.pipeline_base.describe:\n",
            "*****************************************************************************************************************************************\n"
          ]
        },
        {
          "output_type": "stream",
          "name": "stdout",
          "text": [
            "* Random Forest Classifier w/ Label Encoder + Replace Nullable Types Transformer + Drop Columns Transformer + Imputer + One Hot Encoder *\n"
          ]
        },
        {
          "output_type": "stream",
          "name": "stderr",
          "text": [
            "INFO:evalml.pipelines.pipeline_base.describe:* Random Forest Classifier w/ Label Encoder + Replace Nullable Types Transformer + Drop Columns Transformer + Imputer + One Hot Encoder *\n"
          ]
        },
        {
          "output_type": "stream",
          "name": "stdout",
          "text": [
            "*****************************************************************************************************************************************\n"
          ]
        },
        {
          "output_type": "stream",
          "name": "stderr",
          "text": [
            "INFO:evalml.pipelines.pipeline_base.describe:*****************************************************************************************************************************************\n"
          ]
        },
        {
          "output_type": "stream",
          "name": "stdout",
          "text": [
            "\n"
          ]
        },
        {
          "output_type": "stream",
          "name": "stderr",
          "text": [
            "INFO:evalml.pipelines.pipeline_base.describe:\n"
          ]
        },
        {
          "output_type": "stream",
          "name": "stdout",
          "text": [
            "Problem Type: binary\n"
          ]
        },
        {
          "output_type": "stream",
          "name": "stderr",
          "text": [
            "INFO:evalml.pipelines.pipeline_base.describe:Problem Type: binary\n"
          ]
        },
        {
          "output_type": "stream",
          "name": "stdout",
          "text": [
            "Model Family: Random Forest\n"
          ]
        },
        {
          "output_type": "stream",
          "name": "stderr",
          "text": [
            "INFO:evalml.pipelines.pipeline_base.describe:Model Family: Random Forest\n"
          ]
        },
        {
          "output_type": "stream",
          "name": "stdout",
          "text": [
            "\n"
          ]
        },
        {
          "output_type": "stream",
          "name": "stderr",
          "text": [
            "INFO:evalml.pipelines.pipeline_base.describe:\n"
          ]
        },
        {
          "output_type": "stream",
          "name": "stdout",
          "text": [
            "Pipeline Steps\n"
          ]
        },
        {
          "output_type": "stream",
          "name": "stderr",
          "text": [
            "INFO:evalml.pipelines.pipeline_base.describe:Pipeline Steps\n"
          ]
        },
        {
          "output_type": "stream",
          "name": "stdout",
          "text": [
            "==============\n"
          ]
        },
        {
          "output_type": "stream",
          "name": "stderr",
          "text": [
            "INFO:evalml.pipelines.pipeline_base.describe:==============\n"
          ]
        },
        {
          "output_type": "stream",
          "name": "stdout",
          "text": [
            "1. Label Encoder\n"
          ]
        },
        {
          "output_type": "stream",
          "name": "stderr",
          "text": [
            "INFO:evalml.pipelines.component_graph.describe:1. Label Encoder\n"
          ]
        },
        {
          "output_type": "stream",
          "name": "stdout",
          "text": [
            "\t * positive_label : None\n"
          ]
        },
        {
          "output_type": "stream",
          "name": "stderr",
          "text": [
            "INFO:evalml.pipelines.components.component_base.describe:\t * positive_label : None\n"
          ]
        },
        {
          "output_type": "stream",
          "name": "stdout",
          "text": [
            "2. Replace Nullable Types Transformer\n"
          ]
        },
        {
          "output_type": "stream",
          "name": "stderr",
          "text": [
            "INFO:evalml.pipelines.component_graph.describe:2. Replace Nullable Types Transformer\n"
          ]
        },
        {
          "output_type": "stream",
          "name": "stdout",
          "text": [
            "3. Drop Columns Transformer\n"
          ]
        },
        {
          "output_type": "stream",
          "name": "stderr",
          "text": [
            "INFO:evalml.pipelines.component_graph.describe:3. Drop Columns Transformer\n"
          ]
        },
        {
          "output_type": "stream",
          "name": "stdout",
          "text": [
            "\t * columns : ['loan_application_id']\n"
          ]
        },
        {
          "output_type": "stream",
          "name": "stderr",
          "text": [
            "INFO:evalml.pipelines.components.component_base.describe:\t * columns : ['loan_application_id']\n"
          ]
        },
        {
          "output_type": "stream",
          "name": "stdout",
          "text": [
            "4. Imputer\n"
          ]
        },
        {
          "output_type": "stream",
          "name": "stderr",
          "text": [
            "INFO:evalml.pipelines.component_graph.describe:4. Imputer\n"
          ]
        },
        {
          "output_type": "stream",
          "name": "stdout",
          "text": [
            "\t * categorical_impute_strategy : most_frequent\n"
          ]
        },
        {
          "output_type": "stream",
          "name": "stderr",
          "text": [
            "INFO:evalml.pipelines.components.component_base.describe:\t * categorical_impute_strategy : most_frequent\n"
          ]
        },
        {
          "output_type": "stream",
          "name": "stdout",
          "text": [
            "\t * numeric_impute_strategy : mean\n"
          ]
        },
        {
          "output_type": "stream",
          "name": "stderr",
          "text": [
            "INFO:evalml.pipelines.components.component_base.describe:\t * numeric_impute_strategy : mean\n"
          ]
        },
        {
          "output_type": "stream",
          "name": "stdout",
          "text": [
            "\t * boolean_impute_strategy : most_frequent\n"
          ]
        },
        {
          "output_type": "stream",
          "name": "stderr",
          "text": [
            "INFO:evalml.pipelines.components.component_base.describe:\t * boolean_impute_strategy : most_frequent\n"
          ]
        },
        {
          "output_type": "stream",
          "name": "stdout",
          "text": [
            "\t * categorical_fill_value : None\n"
          ]
        },
        {
          "output_type": "stream",
          "name": "stderr",
          "text": [
            "INFO:evalml.pipelines.components.component_base.describe:\t * categorical_fill_value : None\n"
          ]
        },
        {
          "output_type": "stream",
          "name": "stdout",
          "text": [
            "\t * numeric_fill_value : None\n"
          ]
        },
        {
          "output_type": "stream",
          "name": "stderr",
          "text": [
            "INFO:evalml.pipelines.components.component_base.describe:\t * numeric_fill_value : None\n"
          ]
        },
        {
          "output_type": "stream",
          "name": "stdout",
          "text": [
            "\t * boolean_fill_value : None\n"
          ]
        },
        {
          "output_type": "stream",
          "name": "stderr",
          "text": [
            "INFO:evalml.pipelines.components.component_base.describe:\t * boolean_fill_value : None\n"
          ]
        },
        {
          "output_type": "stream",
          "name": "stdout",
          "text": [
            "5. One Hot Encoder\n"
          ]
        },
        {
          "output_type": "stream",
          "name": "stderr",
          "text": [
            "INFO:evalml.pipelines.component_graph.describe:5. One Hot Encoder\n"
          ]
        },
        {
          "output_type": "stream",
          "name": "stdout",
          "text": [
            "\t * top_n : 10\n"
          ]
        },
        {
          "output_type": "stream",
          "name": "stderr",
          "text": [
            "INFO:evalml.pipelines.components.component_base.describe:\t * top_n : 10\n"
          ]
        },
        {
          "output_type": "stream",
          "name": "stdout",
          "text": [
            "\t * features_to_encode : None\n"
          ]
        },
        {
          "output_type": "stream",
          "name": "stderr",
          "text": [
            "INFO:evalml.pipelines.components.component_base.describe:\t * features_to_encode : None\n"
          ]
        },
        {
          "output_type": "stream",
          "name": "stdout",
          "text": [
            "\t * categories : None\n"
          ]
        },
        {
          "output_type": "stream",
          "name": "stderr",
          "text": [
            "INFO:evalml.pipelines.components.component_base.describe:\t * categories : None\n"
          ]
        },
        {
          "output_type": "stream",
          "name": "stdout",
          "text": [
            "\t * drop : if_binary\n"
          ]
        },
        {
          "output_type": "stream",
          "name": "stderr",
          "text": [
            "INFO:evalml.pipelines.components.component_base.describe:\t * drop : if_binary\n"
          ]
        },
        {
          "output_type": "stream",
          "name": "stdout",
          "text": [
            "\t * handle_unknown : ignore\n"
          ]
        },
        {
          "output_type": "stream",
          "name": "stderr",
          "text": [
            "INFO:evalml.pipelines.components.component_base.describe:\t * handle_unknown : ignore\n"
          ]
        },
        {
          "output_type": "stream",
          "name": "stdout",
          "text": [
            "\t * handle_missing : error\n"
          ]
        },
        {
          "output_type": "stream",
          "name": "stderr",
          "text": [
            "INFO:evalml.pipelines.components.component_base.describe:\t * handle_missing : error\n"
          ]
        },
        {
          "output_type": "stream",
          "name": "stdout",
          "text": [
            "6. Random Forest Classifier\n"
          ]
        },
        {
          "output_type": "stream",
          "name": "stderr",
          "text": [
            "INFO:evalml.pipelines.component_graph.describe:6. Random Forest Classifier\n"
          ]
        },
        {
          "output_type": "stream",
          "name": "stdout",
          "text": [
            "\t * n_estimators : 100\n"
          ]
        },
        {
          "output_type": "stream",
          "name": "stderr",
          "text": [
            "INFO:evalml.pipelines.components.component_base.describe:\t * n_estimators : 100\n"
          ]
        },
        {
          "output_type": "stream",
          "name": "stdout",
          "text": [
            "\t * max_depth : 6\n"
          ]
        },
        {
          "output_type": "stream",
          "name": "stderr",
          "text": [
            "INFO:evalml.pipelines.components.component_base.describe:\t * max_depth : 6\n"
          ]
        },
        {
          "output_type": "stream",
          "name": "stdout",
          "text": [
            "\t * n_jobs : -1\n"
          ]
        },
        {
          "output_type": "stream",
          "name": "stderr",
          "text": [
            "INFO:evalml.pipelines.components.component_base.describe:\t * n_jobs : -1\n"
          ]
        },
        {
          "output_type": "stream",
          "name": "stdout",
          "text": [
            "\n"
          ]
        },
        {
          "output_type": "stream",
          "name": "stderr",
          "text": [
            "INFO:evalml.automl.automl_search.describe_pipeline:\n"
          ]
        },
        {
          "output_type": "stream",
          "name": "stdout",
          "text": [
            "Training\n"
          ]
        },
        {
          "output_type": "stream",
          "name": "stderr",
          "text": [
            "INFO:evalml.automl.automl_search.describe_pipeline:Training\n"
          ]
        },
        {
          "output_type": "stream",
          "name": "stdout",
          "text": [
            "========\n"
          ]
        },
        {
          "output_type": "stream",
          "name": "stderr",
          "text": [
            "INFO:evalml.automl.automl_search.describe_pipeline:========\n"
          ]
        },
        {
          "output_type": "stream",
          "name": "stdout",
          "text": [
            "Training for binary problems.\n"
          ]
        },
        {
          "output_type": "stream",
          "name": "stderr",
          "text": [
            "INFO:evalml.automl.automl_search.describe_pipeline:Training for binary problems.\n"
          ]
        },
        {
          "output_type": "stream",
          "name": "stdout",
          "text": [
            "Total training time (including CV): 4.1 seconds\n"
          ]
        },
        {
          "output_type": "stream",
          "name": "stderr",
          "text": [
            "INFO:evalml.automl.automl_search.describe_pipeline:Total training time (including CV): 4.1 seconds\n"
          ]
        },
        {
          "output_type": "stream",
          "name": "stdout",
          "text": [
            "\n"
          ]
        },
        {
          "output_type": "stream",
          "name": "stderr",
          "text": [
            "INFO:evalml.automl.automl_search.describe_pipeline:\n"
          ]
        },
        {
          "output_type": "stream",
          "name": "stdout",
          "text": [
            "Cross Validation\n"
          ]
        },
        {
          "output_type": "stream",
          "name": "stderr",
          "text": [
            "INFO:evalml.automl.automl_search.describe_pipeline:Cross Validation\n"
          ]
        },
        {
          "output_type": "stream",
          "name": "stdout",
          "text": [
            "----------------\n"
          ]
        },
        {
          "output_type": "stream",
          "name": "stderr",
          "text": [
            "INFO:evalml.automl.automl_search.describe_pipeline:----------------\n"
          ]
        },
        {
          "output_type": "stream",
          "name": "stdout",
          "text": [
            "              AUC    F1  Precision # Training # Validation\n",
            "0           0.757 0.589      0.496        533          267\n",
            "1           0.722 0.500      0.435        533          267\n",
            "2           0.695 0.484      0.418        534          266\n",
            "mean        0.725 0.524      0.450          -            -\n",
            "std         0.031 0.056      0.041          -            -\n",
            "coef of var 0.043 0.108      0.091          -            -\n"
          ]
        },
        {
          "output_type": "stream",
          "name": "stderr",
          "text": [
            "INFO:evalml.automl.automl_search.describe_pipeline:              AUC    F1  Precision # Training # Validation\n",
            "0           0.757 0.589      0.496        533          267\n",
            "1           0.722 0.500      0.435        533          267\n",
            "2           0.695 0.484      0.418        534          266\n",
            "mean        0.725 0.524      0.450          -            -\n",
            "std         0.031 0.056      0.041          -            -\n",
            "coef of var 0.043 0.108      0.091          -            -\n"
          ]
        }
      ]
    },
    {
      "cell_type": "code",
      "source": [
        "best_pipeline_auc = automl_auc.best_pipeline"
      ],
      "metadata": {
        "id": "i3l0_VN-tKvU"
      },
      "execution_count": 15,
      "outputs": []
    },
    {
      "cell_type": "code",
      "source": [
        "best_pipeline_auc.score(X_test, y_test,  objectives=[\"auc\"])"
      ],
      "metadata": {
        "id": "B3Q5a0fOtDcA",
        "outputId": "01154cf1-9ddd-4528-a01b-7acf6d00872f",
        "colab": {
          "base_uri": "https://localhost:8080/"
        }
      },
      "execution_count": 16,
      "outputs": [
        {
          "output_type": "execute_result",
          "data": {
            "text/plain": [
              "OrderedDict([('AUC', 0.6595238095238095)])"
            ]
          },
          "metadata": {},
          "execution_count": 16
        }
      ]
    }
  ]
}